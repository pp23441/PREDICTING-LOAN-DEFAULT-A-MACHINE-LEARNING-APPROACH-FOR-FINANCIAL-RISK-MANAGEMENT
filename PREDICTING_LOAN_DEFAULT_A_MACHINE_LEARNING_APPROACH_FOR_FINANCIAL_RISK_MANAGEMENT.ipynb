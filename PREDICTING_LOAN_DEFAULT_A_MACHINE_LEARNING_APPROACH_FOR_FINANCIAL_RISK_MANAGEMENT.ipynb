{
 "cells": [
  {
   "cell_type": "code",
   "execution_count": 11,
   "id": "df6dde91",
   "metadata": {},
   "outputs": [],
   "source": [
    "import pandas as pd\n",
    "from sklearn.model_selection import train_test_split\n",
    "from sklearn.linear_model import LinearRegression, Ridge\n",
    "from sklearn.metrics import mean_squared_error\n",
    "from sklearn.linear_model import RidgeCV, LassoCV\n",
    "\n",
    "import warnings\n",
    "warnings.filterwarnings('ignore')"
   ]
  },
  {
   "cell_type": "code",
   "execution_count": 12,
   "id": "acd0e147",
   "metadata": {},
   "outputs": [],
   "source": [
    "# Load trainData\n",
    "train_data = pd.read_csv(\"trainData.csv\")\n",
    "test_data = pd.read_csv(\"testData.csv\")\n",
    "\n",
    "# Create the target variable 'y' for training data\n",
    "train_data['y'] = train_data['loan_status'].apply(lambda x: 1 if x == \"Charged Off\" else 0)\n",
    "\n",
    "# Create the target variable 'y' for testing data\n",
    "test_data['y'] = test_data['loan_status'].apply(lambda x: 1 if x == \"Charged Off\" else 0)\n",
    "\n",
    "# Drop unnecessary columns (including 'loan_status')\n",
    "X_train = train_data.drop(columns=['loan_status', 'y'])\n",
    "X_test = test_data.drop(columns=['loan_status', 'y'])\n",
    "\n",
    "# Drop uninformative columns (e.g., 'id', 'member_id') if they are empty\n",
    "X_train = X_train.dropna(axis=1, how='all')\n",
    "X_test = X_test.dropna(axis=1, how='all')\n",
    "\n",
    "# Convert categorical variables into dummy variables (if necessary)\n",
    "X_train = pd.get_dummies(X_train)\n",
    "X_test = pd.get_dummies(X_test)\n",
    "\n",
    "# Impute missing values (NaNs) with mean of each column\n",
    "X_train.fillna(X_train.mean(), inplace=True)\n",
    "X_test.fillna(X_test.mean(), inplace=True)\n",
    "\n",
    "# Separate features and target variable for training data\n",
    "y_train = train_data['y']\n",
    "y_test = test_data['y']"
   ]
  },
  {
   "cell_type": "markdown",
   "id": "003256d6",
   "metadata": {},
   "source": [
    "##### Identify the 10 most correlated and 10 least correlated variables"
   ]
  },
  {
   "cell_type": "code",
   "execution_count": 15,
   "id": "680ecb3f",
   "metadata": {},
   "outputs": [
    {
     "name": "stdout",
     "output_type": "stream",
     "text": [
      "10 Most Correlated Variables:\n",
      "y                          1.000000\n",
      "recoveries                 0.526566\n",
      "collection_recovery_fee    0.498354\n",
      "int_rate                   0.202771\n",
      "total_rec_late_fee         0.099330\n",
      "inq_last_6mths             0.094942\n",
      "revol_util                 0.069646\n",
      "dti                        0.035706\n",
      "total_rec_int              0.034793\n",
      "installment                0.032207\n",
      "Name: y, dtype: float64\n",
      "\n",
      "10 Least Correlated Variables:\n",
      "revol_bal          -0.014346\n",
      "annual_inc         -0.031093\n",
      "tot_cur_bal        -0.047157\n",
      "total_rev_hi_lim   -0.055625\n",
      "total_pymnt_inv    -0.135638\n",
      "total_pymnt        -0.135759\n",
      "last_pymnt_amnt    -0.175683\n",
      "total_rec_prncp    -0.219424\n",
      "id                       NaN\n",
      "member_id                NaN\n",
      "Name: y, dtype: float64\n"
     ]
    }
   ],
   "source": [
    "# Select only numeric columns for correlation calculation\n",
    "numeric_columns = train_data.select_dtypes(include=['number'])\n",
    "\n",
    "# Calculate correlation matrix\n",
    "correlation_matrix = numeric_columns.corr()\n",
    "\n",
    "# Extract correlation of variables with 'loan_status'\n",
    "loan_status_correlation = correlation_matrix['y'].sort_values(ascending=False)\n",
    "\n",
    "# Identify the 10 most correlated and 10 least correlated variables\n",
    "most_correlated_variables = loan_status_correlation.head(10)\n",
    "least_correlated_variables = loan_status_correlation.tail(10)\n",
    "\n",
    "print(\"10 Most Correlated Variables:\")\n",
    "print(most_correlated_variables)\n",
    "\n",
    "print(\"\\n10 Least Correlated Variables:\")\n",
    "print(least_correlated_variables)"
   ]
  },
  {
   "cell_type": "markdown",
   "id": "4454e150",
   "metadata": {},
   "source": [
    "# 1.1 Linear Regression Model"
   ]
  },
  {
   "cell_type": "code",
   "execution_count": 3,
   "id": "54f526ad",
   "metadata": {},
   "outputs": [
    {
     "name": "stdout",
     "output_type": "stream",
     "text": [
      "Mean Squared Error for training data (Linear): 0.06736050561831829\n",
      "Mean Squared Error for testing data (Linear): 0.06936782221923506\n"
     ]
    }
   ],
   "source": [
    "# Fit a linear regression model\n",
    "linear_reg = LinearRegression()\n",
    "linear_reg.fit(X_train, y_train)\n",
    "\n",
    "# Predict on training data\n",
    "y_train_pred = linear_reg.predict(X_train)\n",
    "\n",
    "# Predict on testing data\n",
    "y_test_pred = linear_reg.predict(X_test)\n",
    "\n",
    "# Calculate Mean Squared Error for training data\n",
    "mse_train = mean_squared_error(y_train, y_train_pred)\n",
    "print(\"Mean Squared Error for training data (Linear):\", mse_train)\n",
    "\n",
    "# Calculate Mean Squared Error for testing data\n",
    "mse_test = mean_squared_error(y_test, y_test_pred)\n",
    "print(\"Mean Squared Error for testing data (Linear):\", mse_test)\n"
   ]
  },
  {
   "cell_type": "markdown",
   "id": "49a4c8aa",
   "metadata": {},
   "source": [
    "# 1.2 Ridge Regression Model"
   ]
  },
  {
   "cell_type": "code",
   "execution_count": 4,
   "id": "bbd7d838",
   "metadata": {},
   "outputs": [
    {
     "name": "stdout",
     "output_type": "stream",
     "text": [
      "Mean Squared Error for training data (Ridge): 0.06736061164351605\n",
      "Mean Squared Error for testing data (Ridge): 0.06936849413382083\n"
     ]
    }
   ],
   "source": [
    "# Create a range of alpha values from 0.01 to 100\n",
    "alphas = [i/100 for i in range(1, 10001)]\n",
    "\n",
    "# Initialize RidgeCV with the range of alphas and cv parameter for cross-validation\n",
    "ridge_cv = RidgeCV(alphas=alphas, cv=3)  # 3-fold cross-validation\n",
    "\n",
    "# Fit the RidgeCV model\n",
    "ridge_cv.fit(X_train, y_train)\n",
    "\n",
    "# Get the best alpha (λ) value\n",
    "best_alpha = ridge_cv.alpha_\n",
    "\n",
    "# Use the best alpha to fit the final Ridge regression model\n",
    "ridge = Ridge(alpha=best_alpha)\n",
    "ridge.fit(X_train, y_train)\n",
    "\n",
    "# Predict on training data\n",
    "y_train_pred_ridge = ridge.predict(X_train)\n",
    "\n",
    "# Predict on testing data\n",
    "y_test_pred_ridge = ridge.predict(X_test)\n",
    "\n",
    "# Calculate Mean Squared Error for training data\n",
    "mse_train_ridge = mean_squared_error(y_train, y_train_pred_ridge)\n",
    "print(\"Mean Squared Error for training data (Ridge):\", mse_train_ridge)\n",
    "\n",
    "# Calculate Mean Squared Error for testing data\n",
    "mse_test_ridge = mean_squared_error(y_test, y_test_pred_ridge)\n",
    "print(\"Mean Squared Error for testing data (Ridge):\", mse_test_ridge)\n"
   ]
  },
  {
   "cell_type": "markdown",
   "id": "8688bc74",
   "metadata": {},
   "source": [
    "# 1.3 Lasso Regresion Model"
   ]
  },
  {
   "cell_type": "code",
   "execution_count": 5,
   "id": "be2e04e7",
   "metadata": {},
   "outputs": [
    {
     "name": "stdout",
     "output_type": "stream",
     "text": [
      "Mean Squared Error for training data (Lasso): 0.06891304805923394\n",
      "Mean Squared Error for testing data (Lasso): 0.07089436939015885\n"
     ]
    }
   ],
   "source": [
    "from sklearn.linear_model import LassoCV\n",
    "from sklearn.linear_model import LinearRegression, Ridge, Lasso\n",
    "\n",
    "# Initialize LassoCV with the range of alphas and cv parameter for cross-validation\n",
    "lasso_cv = LassoCV(alphas=alphas, cv=5)  # 5-fold cross-validation\n",
    "\n",
    "# Fit the LassoCV model\n",
    "lasso_cv.fit(X_train, y_train)\n",
    "\n",
    "# Get the best alpha (λ) value\n",
    "best_alpha_lasso = lasso_cv.alpha_\n",
    "\n",
    "# Use the best alpha to fit the final Lasso regression model\n",
    "lasso = Lasso(alpha=best_alpha_lasso)\n",
    "lasso.fit(X_train, y_train)\n",
    "\n",
    "# Predict on training data\n",
    "y_train_pred_lasso = lasso.predict(X_train)\n",
    "\n",
    "# Predict on testing data\n",
    "y_test_pred_lasso = lasso.predict(X_test)\n",
    "\n",
    "# Calculate Mean Squared Error for training data\n",
    "mse_train_lasso = mean_squared_error(y_train, y_train_pred_lasso)\n",
    "print(\"Mean Squared Error for training data (Lasso):\", mse_train_lasso)\n",
    "\n",
    "# Calculate Mean Squared Error for testing data\n",
    "mse_test_lasso = mean_squared_error(y_test, y_test_pred_lasso)\n",
    "print(\"Mean Squared Error for testing data (Lasso):\", mse_test_lasso)\n"
   ]
  },
  {
   "cell_type": "markdown",
   "id": "ee402234",
   "metadata": {},
   "source": [
    "# 1.4 Random Forest"
   ]
  },
  {
   "cell_type": "code",
   "execution_count": 6,
   "id": "a1820a5a",
   "metadata": {},
   "outputs": [
    {
     "name": "stdout",
     "output_type": "stream",
     "text": [
      "Training Random Forest model...\n",
      "Mean Squared Error for training data (Random Forest): 0.003739294785895718\n",
      "Mean Squared Error for testing data (Random Forest): 0.028252285076169205\n",
      "Feature Importance: [1.17489218e-02 3.90376785e-02 2.41799292e-02 1.36945201e-02\n",
      " 1.62874005e-02 2.31978570e-03 7.10568619e-03 1.04295841e-02\n",
      " 1.04045549e-02 3.97040034e-03 1.37563814e-02 1.59928944e-02\n",
      " 1.25535606e-02 1.21846481e-02 1.10857098e-02 3.08326722e-02\n",
      " 1.65778703e-02 6.54680486e-03 6.58371688e-01 1.45713959e-04\n",
      " 1.98518476e-02 8.08982525e-04 3.58573739e-04 5.67789750e-03\n",
      " 1.60666279e-02 1.32392303e-02 3.07859438e-04 4.74866125e-04\n",
      " 1.89520994e-03 2.47734325e-03 1.43913892e-03 3.30095346e-04\n",
      " 4.69727066e-04 1.30959076e-03 1.46739865e-03 1.57854915e-03\n",
      " 1.15975219e-03 1.18514522e-03 1.24992601e-03 9.85309003e-04\n",
      " 1.26035179e-03 1.46142747e-03 1.35038152e-03 1.20410025e-03\n",
      " 3.27455482e-06 1.13749213e-03 0.00000000e+00 0.00000000e+00\n",
      " 1.24280976e-03 1.44931762e-03 6.02171619e-04 7.29197353e-04]\n"
     ]
    }
   ],
   "source": [
    "from sklearn.ensemble import RandomForestRegressor\n",
    "\n",
    "# Initialize Random Forest model\n",
    "random_forest = RandomForestRegressor(n_estimators=100, random_state=42)\n",
    "\n",
    "print(\"Training Random Forest model...\")\n",
    "\n",
    "# Fit the Random Forest model\n",
    "random_forest.fit(X_train, y_train)\n",
    "\n",
    "# Predict on training data\n",
    "y_train_pred_rf = random_forest.predict(X_train)\n",
    "\n",
    "# Predict on testing data\n",
    "y_test_pred_rf = random_forest.predict(X_test)\n",
    "\n",
    "# Calculate Mean Squared Error for training data\n",
    "mse_train_rf = mean_squared_error(y_train, y_train_pred_rf)\n",
    "print(\"Mean Squared Error for training data (Random Forest):\", mse_train_rf)\n",
    "\n",
    "# Calculate Mean Squared Error for testing data\n",
    "mse_test_rf = mean_squared_error(y_test, y_test_pred_rf)\n",
    "print(\"Mean Squared Error for testing data (Random Forest):\", mse_test_rf)\n",
    "\n",
    "# Feature importance\n",
    "feature_importance = random_forest.feature_importances_\n",
    "print(\"Feature Importance:\", feature_importance)"
   ]
  },
  {
   "cell_type": "markdown",
   "id": "bfcd0b5b",
   "metadata": {},
   "source": [
    "The feature importance provided by the Random Forest model indicates the relative contribution of each feature to predicting default. Features with higher importance values are more influential in the model's predictions, while those with lower values have less impact. Understanding these importance values helps identify key factors affecting default likelihood, aiding in better decision-making and risk assessment in lending practices."
   ]
  },
  {
   "cell_type": "markdown",
   "id": "6c58d122",
   "metadata": {},
   "source": [
    "# 1.5 Neural Network"
   ]
  },
  {
   "cell_type": "code",
   "execution_count": 7,
   "id": "01c1d8f7",
   "metadata": {},
   "outputs": [
    {
     "name": "stdout",
     "output_type": "stream",
     "text": [
      "Accuracy for training data (Neural Network): 0.9364987299745995\n",
      "Accuracy for testing data (Neural Network): 0.934331144371479\n"
     ]
    }
   ],
   "source": [
    "from sklearn.neural_network import MLPClassifier\n",
    "from sklearn.metrics import accuracy_score\n",
    "\n",
    "# Initialize MLP classifier\n",
    "mlp_classifier = MLPClassifier(random_state=42)\n",
    "\n",
    "# Fit the MLP classifier\n",
    "mlp_classifier.fit(X_train, y_train)\n",
    "\n",
    "# Predict on training data\n",
    "y_train_pred_mlp = mlp_classifier.predict(X_train)\n",
    "\n",
    "# Predict on testing data\n",
    "y_test_pred_mlp = mlp_classifier.predict(X_test)\n",
    "\n",
    "# Calculate accuracy for training data\n",
    "accuracy_train = accuracy_score(y_train, y_train_pred_mlp)\n",
    "print(\"Accuracy for training data (Neural Network):\", accuracy_train)\n",
    "\n",
    "# Calculate accuracy for testing data\n",
    "accuracy_test = accuracy_score(y_test, y_test_pred_mlp)\n",
    "print(\"Accuracy for testing data (Neural Network):\", accuracy_test)"
   ]
  },
  {
   "cell_type": "markdown",
   "id": "61dc77fc",
   "metadata": {},
   "source": [
    "The multi-layer perceptron (MLP) classifier was chosen due to its versatility in capturing non-linear relationships within the data, which is crucial for predicting complex phenomena like loan defaults. As MLPs consist of multiple layers of interconnected neurons, they can learn intricate patterns and dependencies present in the data, making them well-suited for tasks where the relationships are not easily linearly separable. Additionally, MLPs are widely used in various domains and have proven to be effective in classification tasks, making them a reliable choice for this predictive modeling task."
   ]
  },
  {
   "cell_type": "code",
   "execution_count": 8,
   "id": "806f583a",
   "metadata": {},
   "outputs": [
    {
     "data": {
      "image/png": "[encoded data removed]",
      "text/plain": [
       "<Figure size 1000x600 with 1 Axes>"
      ]
     },
     "metadata": {},
     "output_type": "display_data"
    }
   ],
   "source": [
    "import matplotlib.pyplot as plt\n",
    "\n",
    "# Models\n",
    "models = ['Linear Regression', 'Ridge Regression', 'Lasso Regression', 'Random Forest', 'Neural Network']\n",
    "\n",
    "# Mean Squared Error values for training data\n",
    "mse_train_values = [0.06736050561831829, 0.06736061164351605, 0.06891304805923394, 0.003739294785895718, 0.9364987299745995] # Update with actual values\n",
    "\n",
    "# Mean Squared Error values for testing data\n",
    "mse_test_values = [0.06936782221923506, 0.06936849413382083, 0.07089436939015885, 0.028252285076169205, 0.934331144371479] # Update with actual values\n",
    "\n",
    "# Create comparison plot\n",
    "plt.figure(figsize=(10, 6))\n",
    "plt.bar(models, mse_train_values, label='Training MSE')\n",
    "plt.bar(models, mse_test_values, label='Testing MSE')\n",
    "plt.xlabel('Models')\n",
    "plt.ylabel('Mean Squared Error')\n",
    "plt.title('Comparison of Mean Squared Error for Different Models')\n",
    "plt.legend()\n",
    "plt.xticks(rotation=45)\n",
    "plt.tight_layout()\n",
    "plt.show()\n"
   ]
  },
  {
   "cell_type": "markdown",
   "id": "2658b9cd",
   "metadata": {},
   "source": [
    "The NN is the Best Model Based on Testing MSE"
   ]
  },
  {
   "cell_type": "code",
   "execution_count": null,
   "id": "d083401a",
   "metadata": {},
   "outputs": [],
   "source": []
  }
 ],
 "metadata": {
  "kernelspec": {
   "display_name": "Python 3 (ipykernel)",
   "language": "python",
   "name": "python3"
  },
  "language_info": {
   "codemirror_mode": {
    "name": "ipython",
    "version": 3
   },
   "file_extension": ".py",
   "mimetype": "text/x-python",
   "name": "python",
   "nbconvert_exporter": "python",
   "pygments_lexer": "ipython3",
   "version": "3.10.9"
  }
 },
 "nbformat": 4,
 "nbformat_minor": 5
}
